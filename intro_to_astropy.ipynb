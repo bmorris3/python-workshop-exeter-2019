{
 "cells": [
  {
   "cell_type": "markdown",
   "metadata": {},
   "source": [
    "![astropy logo](https://astropy.readthedocs.io/en/stable/_static/astropy_banner.svg)\n",
    "\n",
    "# Introduction to [`astropy`](https://astropy.readthedocs.io/en/stable/)\n",
    "\n",
    "with [Brett Morris](http://brettmorr.is/)\n",
    "\n",
    "**Dependencies**: astropy, astroquery, astroplan\n",
    "\n",
    "### Outline\n",
    "1. `astropy.units`\n",
    "2. `astropy.time`\n",
    "3. `astropy.coordinates`\n",
    "4. `astropy.cosmology`\n",
    "5. `astropy.table`\n",
    "5. `astropy`-affiliated packages: `astroquery` & `astroplan`\n",
    "6. `astropy.io.fits`\n",
    "7. Exercises\n",
    "\n",
    "*** \n",
    " \n",
    "## 1) [`astropy.units`](http://astropy.readthedocs.org/en/latest/units/): Problem sets are about to get easier\n",
    "\n",
    "One of the modules most central to `astropy` is the `units` module, which will save you lots of time. "
   ]
  },
  {
   "cell_type": "code",
   "execution_count": null,
   "metadata": {
    "collapsed": false
   },
   "outputs": [],
   "source": [
    "import astropy.units as u\n",
    "import numpy as np\n",
    "\n",
    "height = u.Quantity(1.778, unit=u.meter)\n",
    "# or equivalently:\n",
    "height = 1.778 * u.m"
   ]
  },
  {
   "cell_type": "markdown",
   "metadata": {},
   "source": [
    "If you hate people, imperial units are supported:"
   ]
  },
  {
   "cell_type": "code",
   "execution_count": null,
   "metadata": {
    "collapsed": false
   },
   "outputs": [],
   "source": [
    "from astropy.units.imperial import foot\n",
    "height.to(foot)"
   ]
  },
  {
   "cell_type": "markdown",
   "metadata": {},
   "source": [
    "What is the light-travel time across one Brett? ($\\Delta t = \\Delta x / c$)"
   ]
  },
  {
   "cell_type": "code",
   "execution_count": null,
   "metadata": {
    "collapsed": false
   },
   "outputs": [],
   "source": [
    "from astropy.constants import c, m_e, h, M_sun, R_sun, R_earth, M_jup, R_jup, G\n",
    "\n",
    "dt = height/c\n",
    "dt"
   ]
  },
  {
   "cell_type": "code",
   "execution_count": null,
   "metadata": {
    "collapsed": false
   },
   "outputs": [],
   "source": [
    "G"
   ]
  },
  {
   "cell_type": "markdown",
   "metadata": {},
   "source": [
    "Metric prefixes accepted (try `M` for mega, `p` for pico, etc.)"
   ]
  },
  {
   "cell_type": "code",
   "execution_count": null,
   "metadata": {
    "collapsed": false
   },
   "outputs": [],
   "source": [
    "dt.to(u.ns)"
   ]
  },
  {
   "cell_type": "markdown",
   "metadata": {},
   "source": [
    "A quantity has two attributes: "
   ]
  },
  {
   "cell_type": "code",
   "execution_count": null,
   "metadata": {
    "collapsed": false
   },
   "outputs": [],
   "source": [
    "dt.value, dt.unit"
   ]
  },
  {
   "cell_type": "markdown",
   "metadata": {},
   "source": [
    "Vector quantities are where it's at: "
   ]
  },
  {
   "cell_type": "code",
   "execution_count": null,
   "metadata": {
    "collapsed": false
   },
   "outputs": [],
   "source": [
    "distances = u.Quantity([1.3, 1.5, 1.7], unit=u.lightyear)\n",
    "\n",
    "distances.to(u.m)"
   ]
  },
  {
   "cell_type": "markdown",
   "metadata": {},
   "source": [
    "Quantities are either Python built-in types (float, int) or numpy arrays with metadata. To get at the underlying numbers, use the `value` attribute: "
   ]
  },
  {
   "cell_type": "code",
   "execution_count": null,
   "metadata": {
    "collapsed": false
   },
   "outputs": [],
   "source": [
    "distances.value, type(distances.value)"
   ]
  },
  {
   "cell_type": "markdown",
   "metadata": {},
   "source": [
    "If the result of what you're computing is unitless, but you arrived there by combining lots of units, then you might need to use the `float` function to turn your unitful answer into a dimensionless quantity by resolving all of the unit equivalences: "
   ]
  },
  {
   "cell_type": "code",
   "execution_count": null,
   "metadata": {
    "collapsed": false
   },
   "outputs": [],
   "source": [
    "expansion_rate = 67 * u.km / u.s / u.Mpc\n",
    "duration = 1 * u.Gyr\n",
    "\n",
    "expansion_rate * duration"
   ]
  },
  {
   "cell_type": "markdown",
   "metadata": {},
   "source": [
    "There are a bunch of useful quantities stored in `astropy.constants`, which will save you frustration in problem sets: "
   ]
  },
  {
   "cell_type": "code",
   "execution_count": null,
   "metadata": {
    "collapsed": false
   },
   "outputs": [],
   "source": [
    "from astropy.constants import R_sun, R_earth, R_jup\n",
    "from astropy.constants import M_sun, M_earth, m_e\n",
    "from astropy.constants import G, h, k_B\n",
    "\n",
    "print(M_sun)"
   ]
  },
  {
   "cell_type": "markdown",
   "metadata": {},
   "source": [
    "You can use these constants like units:"
   ]
  },
  {
   "cell_type": "code",
   "execution_count": null,
   "metadata": {
    "collapsed": false
   },
   "outputs": [],
   "source": [
    "# Calculate the black hole mass in units of solar masses: \n",
    "black_hole_mass = 12e31 * u.kg\n",
    "\n",
    "black_hole_mass.to(M_sun)"
   ]
  },
  {
   "cell_type": "markdown",
   "metadata": {},
   "source": [
    "The above result should be read as \"60 (solar masses)\". To see the quantity without it's unit, use `value`: "
   ]
  },
  {
   "cell_type": "code",
   "execution_count": null,
   "metadata": {
    "collapsed": false
   },
   "outputs": [],
   "source": [
    "black_hole_mass.to(M_sun).value"
   ]
  },
  {
   "cell_type": "markdown",
   "metadata": {},
   "source": [
    "***\n",
    "\n",
    "## 2) [`astropy.time`](http://astropy.readthedocs.org/en/latest/time/index.html): Time objects for humans\n",
    "\n",
    "There are many distinct and confusing time systems used in astronomy, and the `astropy.time` module provides a convenient means of translating between them – never code your own JD-to-ISO time converter or try to remember whether or not the difference between JD and MJD has a 0.5 in it again!"
   ]
  },
  {
   "cell_type": "code",
   "execution_count": null,
   "metadata": {
    "collapsed": false
   },
   "outputs": [],
   "source": [
    "# The astropy.time.Time object contains a time in a specified format\n",
    "from astropy.time import Time\n",
    "\n",
    "# If the input format is not specified, it will guess. Here's an ISO formatted string:\n",
    "Time('2020-01-01 12:34:56')"
   ]
  },
  {
   "cell_type": "markdown",
   "metadata": {},
   "source": [
    "Here's a Julian Date:"
   ]
  },
  {
   "cell_type": "code",
   "execution_count": null,
   "metadata": {
    "collapsed": false
   },
   "outputs": [],
   "source": [
    "t = Time(2459372.0242592595, format='jd')\n",
    "t"
   ]
  },
  {
   "cell_type": "markdown",
   "metadata": {},
   "source": [
    "Convert between time formats by calling `t.iso`, `t.mjd`, etc."
   ]
  },
  {
   "cell_type": "code",
   "execution_count": null,
   "metadata": {
    "collapsed": false
   },
   "outputs": [],
   "source": [
    "t.iso"
   ]
  },
  {
   "cell_type": "markdown",
   "metadata": {},
   "source": [
    "By default, the scale (or time standard) is set to **UTC**, which is defined to keep an integer number of seconds per day. There are other time standards like **UT1** which are defined by the rotation of the Earth (see [my blog post on time standards](http://bmmorris.blogspot.com/2015/06/ut1-utc-and-astropy.html) for more background). Converting between the two can be messy, but not with astropy:"
   ]
  },
  {
   "cell_type": "code",
   "execution_count": null,
   "metadata": {
    "collapsed": false
   },
   "outputs": [],
   "source": [
    "print('Available time scales: {0}'.format(', '.join(Time.SCALES)))\n",
    "t.scale"
   ]
  },
  {
   "cell_type": "code",
   "execution_count": null,
   "metadata": {
    "collapsed": false
   },
   "outputs": [],
   "source": [
    "t.ut1"
   ]
  },
  {
   "cell_type": "markdown",
   "metadata": {},
   "source": [
    "If converting between UTC and UT1 you raises an `IndexError` like this, \n",
    "```\n",
    "IndexError: (some) times are outside of range covered by IERS table.\n",
    "```\n",
    "it's because you need more up-to-date Earth rotation data since the Earth's rate of rotation is constantly changing. See the `astropy.time` docs on [Transformation offsets](http://astropy.readthedocs.org/en/stable/time/index.html#transformation-offsets) to update your Earth rotation data."
   ]
  },
  {
   "cell_type": "code",
   "execution_count": null,
   "metadata": {
    "collapsed": false
   },
   "outputs": [],
   "source": [
    "t.ut1.iso"
   ]
  },
  {
   "cell_type": "markdown",
   "metadata": {},
   "source": [
    "Lastly, arrays of times can be generated from numpy arrays:"
   ]
  },
  {
   "cell_type": "code",
   "execution_count": null,
   "metadata": {
    "collapsed": false
   },
   "outputs": [],
   "source": [
    "Time.now()"
   ]
  },
  {
   "cell_type": "code",
   "execution_count": null,
   "metadata": {
    "collapsed": false
   },
   "outputs": [],
   "source": [
    "times = Time.now() + np.linspace(0, 1, 10)*u.year"
   ]
  },
  {
   "cell_type": "code",
   "execution_count": null,
   "metadata": {
    "collapsed": false
   },
   "outputs": [],
   "source": [
    "times"
   ]
  },
  {
   "cell_type": "markdown",
   "metadata": {},
   "source": [
    "`Time` objects are also great for plotting a time series. For exampel, try using the `plot_date` attribute with `plt.plot_date`, or `decimalyear` with `plt.plot`: "
   ]
  },
  {
   "cell_type": "code",
   "execution_count": null,
   "metadata": {
    "collapsed": false
   },
   "outputs": [],
   "source": [
    "%matplotlib inline\n",
    "import matplotlib.pyplot as plt\n",
    "\n",
    "times = Time.now() - np.linspace(0, 10, 100) * u.year\n",
    "fluxes = 0.01 * np.random.randn(len(times)) + 1\n",
    "\n",
    "plt.plot(times.decimalyear, fluxes)\n",
    "plt.xlabel('Date')\n",
    "plt.ylabel('Flux')\n",
    "plt.show()"
   ]
  },
  {
   "cell_type": "markdown",
   "metadata": {},
   "source": [
    "***\n",
    "\n",
    "\n",
    "## 3) [`astropy.coordinates`](http://astropy.readthedocs.org/en/latest/coordinates/index.html)"
   ]
  },
  {
   "cell_type": "markdown",
   "metadata": {},
   "source": [
    "![XKCD comic](http://imgs.xkcd.com/comics/standards.png)"
   ]
  },
  {
   "cell_type": "markdown",
   "metadata": {},
   "source": [
    "Convert the position of your target from one coordinate system to another without opening a reference book!\n",
    "\n",
    "Let's define the galactic center in the natural coordinate system:"
   ]
  },
  {
   "cell_type": "code",
   "execution_count": null,
   "metadata": {
    "collapsed": false
   },
   "outputs": [],
   "source": [
    "from astropy.coordinates import SkyCoord\n",
    "\n",
    "gal_center = SkyCoord(l=0*u.deg, b=0*u.deg, frame='galactic')\n",
    "print(gal_center)"
   ]
  },
  {
   "cell_type": "markdown",
   "metadata": {},
   "source": [
    "Now let's say you have to tell an observer where that is in ICRS coordinates: what is that position in RA/Dec?"
   ]
  },
  {
   "cell_type": "code",
   "execution_count": null,
   "metadata": {
    "collapsed": false
   },
   "outputs": [],
   "source": [
    "gal_center.icrs"
   ]
  },
  {
   "cell_type": "markdown",
   "metadata": {},
   "source": [
    "You can resolve targets by name with the `from_name` class method"
   ]
  },
  {
   "cell_type": "code",
   "execution_count": null,
   "metadata": {
    "collapsed": false
   },
   "outputs": [],
   "source": [
    "sgr_a = SkyCoord.from_name('Sgr A*')\n",
    "print(sgr_a)"
   ]
  },
  {
   "cell_type": "markdown",
   "metadata": {},
   "source": [
    "Let's represent these coordinates in various formats with `.degree`, `.hourangle`:"
   ]
  },
  {
   "cell_type": "code",
   "execution_count": null,
   "metadata": {
    "collapsed": false
   },
   "outputs": [],
   "source": [
    "sgr_a.ra.degree"
   ]
  },
  {
   "cell_type": "markdown",
   "metadata": {},
   "source": [
    "and experiment with the string outputs you'd use in a proposal, like `dms`, `hmsdms`, `decimal`:"
   ]
  },
  {
   "cell_type": "code",
   "execution_count": null,
   "metadata": {
    "collapsed": false
   },
   "outputs": [],
   "source": [
    "sgr_a.to_string(style='hmsdms', sep=':')"
   ]
  },
  {
   "cell_type": "markdown",
   "metadata": {},
   "source": [
    "With a specified location on Earth, you can compute alt/az coordinates for any `SkyCoord`"
   ]
  },
  {
   "cell_type": "code",
   "execution_count": null,
   "metadata": {
    "collapsed": false
   },
   "outputs": [],
   "source": [
    "from astropy.coordinates import EarthLocation, AltAz\n",
    "\n",
    "# Define Earth location:\n",
    "longitude, latitude, elevation = (-122.3331*u.deg, 47.6097*u.deg, 0*u.m)\n",
    "seattle = EarthLocation.from_geodetic(longitude, latitude, elevation)\n",
    "\n",
    "# Define alt/az frame:\n",
    "alt_az_frame = AltAz(obstime=Time.now(), location=seattle)\n",
    "\n",
    "# Transform the coordinate to the new reference frame, and print\n",
    "sgr_a_altaz = sgr_a.transform_to(alt_az_frame)\n",
    "sgr_a_altaz.to_string(style='hmsdms')"
   ]
  },
  {
   "cell_type": "markdown",
   "metadata": {},
   "source": [
    "***\n",
    "\n",
    "\n",
    "## 4) [`astropy.cosmology`](http://astropy.readthedocs.org/en/latest/cosmology/): No more JavaScript cosmology calculators for you!\n",
    "\n",
    "First, choose a cosmology (e.g.: `Planck15`, `WMAP9`) and get $H_0$:"
   ]
  },
  {
   "cell_type": "code",
   "execution_count": null,
   "metadata": {
    "collapsed": false
   },
   "outputs": [],
   "source": [
    "from astropy.cosmology import WMAP9 as cosmo\n",
    "\n",
    "cosmo.H(z=0)"
   ]
  },
  {
   "cell_type": "code",
   "execution_count": null,
   "metadata": {
    "collapsed": false
   },
   "outputs": [],
   "source": [
    "cosmo.angular_diameter_distance(z=1)"
   ]
  },
  {
   "cell_type": "code",
   "execution_count": null,
   "metadata": {
    "collapsed": false
   },
   "outputs": [],
   "source": [
    "cosmo.luminosity_distance(z=1)"
   ]
  },
  {
   "cell_type": "markdown",
   "metadata": {},
   "source": [
    "In cosmology class you'll still have to learn to solve these from scratch, but you can double check yourself like so: "
   ]
  },
  {
   "cell_type": "code",
   "execution_count": null,
   "metadata": {
    "collapsed": false
   },
   "outputs": [],
   "source": [
    "%matplotlib inline\n",
    "import matplotlib.pyplot as plt\n",
    "\n",
    "z = np.linspace(0, 10, 50)\n",
    "\n",
    "# Compute some parameters\n",
    "t_lookback = cosmo.lookback_time(z)\n",
    "T_cmb = cosmo.Tcmb(z)\n",
    "D_A = cosmo.angular_diameter_distance(z)\n",
    "D_L = cosmo.luminosity_distance(z)\n",
    "\n",
    "fig, ax = plt.subplots(2, 2, figsize=(10, 10))\n",
    "\n",
    "ax[0, 0].plot(z, t_lookback)\n",
    "ax[0, 0].set(title='Look-back Time', xlabel='$z$', \n",
    "             ylabel=r'$t_{{lookback}}(z)$ [{0}]'.format(t_lookback.unit))\n",
    "\n",
    "ax[0, 1].plot(z, T_cmb)\n",
    "ax[0, 1].set(title='$T_{CMB}$', xlabel='$z$', \n",
    "             ylabel='$T_{{CMB}}(z)$ [{0}]'.format(T_cmb.unit))\n",
    "\n",
    "ax[1, 0].plot(z, D_A)\n",
    "ax[1, 0].set(title='Angular Diameter Distance', xlabel='$z$', \n",
    "             ylabel=r'$D_A(z)$ [{0}]'.format(D_A.unit))\n",
    "\n",
    "ax[1, 1].plot(z, D_L)\n",
    "ax[1, 1].set(title='Luminosity Distance', xlabel='$z$', \n",
    "             ylabel=r'$D_L(z)$ [{0}]'.format(D_L.unit))\n",
    "\n",
    "fig.subplots_adjust(wspace=0.3)\n",
    "fig.suptitle('Cosmology: {0}'.format(cosmo.name), fontsize=18);"
   ]
  },
  {
   "cell_type": "markdown",
   "metadata": {},
   "source": [
    "# 5) `astropy.table`: Table objects for physical scientists\n",
    "\n",
    "What makes a table object specific to physical scientists, you ask? **Units** my friend, units. In general, [pandas](http://pandas.pydata.org) has the most mature table-like data structures in Python, but the astropy table is nifty, so let's see how it works. \n",
    "\n",
    "A table can be constructed a bunch of ways. Let's initialize one from an array: "
   ]
  },
  {
   "cell_type": "code",
   "execution_count": null,
   "metadata": {
    "collapsed": false
   },
   "outputs": [],
   "source": [
    "from astropy.table import Table\n",
    "\n",
    "example_data = np.random.randint(0, 100, 50).reshape((10, 5))\n",
    "column_names = ['a', 'b', 'c', 'd', 'e']\n",
    "\n",
    "table = Table(example_data, names=column_names)\n",
    "\n",
    "table"
   ]
  },
  {
   "cell_type": "markdown",
   "metadata": {},
   "source": [
    "As you can see, the astropy table has some special powers inside iPython notebooks, and gets rendered nicely. \n",
    "\n",
    "The first row tells you the names of each column. You can access a column of data from a table by treating the table like a dictionary: "
   ]
  },
  {
   "cell_type": "code",
   "execution_count": null,
   "metadata": {
    "collapsed": false
   },
   "outputs": [],
   "source": [
    "table['a']"
   ]
  },
  {
   "cell_type": "markdown",
   "metadata": {},
   "source": [
    "This column object has a `.data` attribute which you can use to get at the `numpy` array underneath:"
   ]
  },
  {
   "cell_type": "code",
   "execution_count": null,
   "metadata": {
    "collapsed": false
   },
   "outputs": [],
   "source": [
    "table['a'].data"
   ]
  },
  {
   "cell_type": "markdown",
   "metadata": {},
   "source": [
    "This gets at the heart of what an astropy table is. It's essentially an ordered dictionary of columns. Each column is a numpy array _with metadata_. That metadata is what makes the table useful, because those columns, for example, can have units! "
   ]
  },
  {
   "cell_type": "code",
   "execution_count": null,
   "metadata": {
    "collapsed": false
   },
   "outputs": [],
   "source": [
    "table['a'].unit = u.km\n",
    "table['b'].unit = u.lightyear\n",
    "table['c'].unit = u.kg\n",
    "table['d'].unit = u.s\n",
    "table['e'].unit = u.Mpc\n",
    "\n",
    "table"
   ]
  },
  {
   "cell_type": "markdown",
   "metadata": {},
   "source": [
    "Now you can do operations on each column as though it was a unit vector:"
   ]
  },
  {
   "cell_type": "code",
   "execution_count": null,
   "metadata": {
    "collapsed": false
   },
   "outputs": [],
   "source": [
    "table['b'].to(u.pc)"
   ]
  },
  {
   "cell_type": "markdown",
   "metadata": {},
   "source": [
    "and you can get each element as a quantity, or not: "
   ]
  },
  {
   "cell_type": "code",
   "execution_count": null,
   "metadata": {
    "collapsed": false
   },
   "outputs": [],
   "source": [
    "# Not a quantity:\n",
    "table['a'][2], type(table['a'][2])"
   ]
  },
  {
   "cell_type": "code",
   "execution_count": null,
   "metadata": {
    "collapsed": false
   },
   "outputs": [],
   "source": [
    "# A quantity:\n",
    "table['a'].quantity[2]"
   ]
  },
  {
   "cell_type": "markdown",
   "metadata": {},
   "source": [
    "## Reading and writing ascii text tables\n",
    " \n",
    "Perhaps a collaborator will send you some IDL-generated text tables to work with, and you'll want to open it with Python. Sometimes the easiest way to do this will be with `astropy.table.Table`. Let's create an example table in the cell below: "
   ]
  },
  {
   "cell_type": "code",
   "execution_count": null,
   "metadata": {
    "collapsed": false
   },
   "outputs": [],
   "source": [
    "%%writefile example_table.txt\n",
    "a  b  c\n",
    "0  2  2\n",
    "3  4  6\n",
    "34 4  1\n",
    "6  36 5\n",
    "86 7  3"
   ]
  },
  {
   "cell_type": "code",
   "execution_count": null,
   "metadata": {
    "collapsed": false
   },
   "outputs": [],
   "source": [
    "from astropy.table import Table\n",
    "\n",
    "table = Table.read('example_table.txt', format='ascii')\n",
    "\n",
    "table"
   ]
  },
  {
   "cell_type": "markdown",
   "metadata": {},
   "source": [
    "Well that was easy! We didn't have to specify anything, and it did most of the work. We can now take this `astropy.table.Table` object and make it even more useful, by giving the columns units, etc.:"
   ]
  },
  {
   "cell_type": "code",
   "execution_count": null,
   "metadata": {
    "collapsed": false
   },
   "outputs": [],
   "source": [
    "table['a'].unit = u.kg\n",
    "\n",
    "table"
   ]
  },
  {
   "cell_type": "markdown",
   "metadata": {},
   "source": [
    "We can write this table out using the [very very flexible `ascii.write` function](http://docs.astropy.org/en/v0.2.1/io/ascii/index.html): "
   ]
  },
  {
   "cell_type": "code",
   "execution_count": null,
   "metadata": {
    "collapsed": false
   },
   "outputs": [],
   "source": [
    "# Directly output a table in LaTeX format: \n",
    "table.write('latex_table.tex', format='ascii.latex')\n",
    "\n",
    "# Output a CSV file: \n",
    "table.write('csv_table.csv', format='csv')\n",
    "\n",
    "# Write a table with the column names at the top, in a comment\n",
    "table.write('table_with_header.txt', format='ascii.commented_header')"
   ]
  },
  {
   "cell_type": "markdown",
   "metadata": {},
   "source": [
    "***\n",
    "\n",
    "\n",
    "## 6a) Affiliated Package: [`astroquery`](http://astroquery.readthedocs.org)\n",
    "\n",
    "Since `astropy` is a collection of fundamental tools that are easy to use, lots of packages have been built on top of `astropy`, but not necessarily merged into `astropy` core. One of those is `astroquery`, which allows you to query astronomical databases with ease.\n",
    "\n",
    "Let's query for the SIMBAD entry for a planet hosting star, HD 189733:"
   ]
  },
  {
   "cell_type": "code",
   "execution_count": null,
   "metadata": {
    "collapsed": false
   },
   "outputs": [],
   "source": [
    "from astroquery.simbad import Simbad\n",
    "\n",
    "Simbad.query_object('HD 189733')"
   ]
  },
  {
   "cell_type": "markdown",
   "metadata": {},
   "source": [
    "Let's query Vizier for the famous list of standard stars from [Landolt (1992)](http://adsabs.harvard.edu/abs/1992AJ....104..340L). The [`astropy.table`](http://astropy.readthedocs.org/en/latest/table/) that is returned to you will have the same information as [this Vizier query page](http://vizier.u-strasbg.fr/viz-bin/VizieR-3?-source=II/183A/table2)."
   ]
  },
  {
   "cell_type": "code",
   "execution_count": null,
   "metadata": {
    "collapsed": false
   },
   "outputs": [],
   "source": [
    "from astroquery.vizier import Vizier\n",
    "\n",
    "landolt_table = Vizier.get_catalogs('Landolt 1992')[0]\n",
    "landolt_table"
   ]
  },
  {
   "cell_type": "markdown",
   "metadata": {},
   "source": [
    "## 6b) Affiliated Package: [`astroplan`](https://astroplan.readthedocs.org/en/latest/)\n",
    "\n",
    "`astroplan` is an `astropy`-affiliated package that helps you calculate when objects are observable. Here's a quick example for determining which targets are visible right now from Apache Point Observatory:"
   ]
  },
  {
   "cell_type": "code",
   "execution_count": null,
   "metadata": {
    "collapsed": false
   },
   "outputs": [],
   "source": [
    "from astroplan import Observer, FixedTarget\n",
    "\n",
    "# Targets are stored as `astroplan.FixedTarget` objects\n",
    "target_names = ['Polaris', 'Sirius', 'Vega', 'Rigel']\n",
    "targets = [FixedTarget.from_name(target) for target in target_names]\n",
    "\n",
    "# Observatories are `astroplan.Observer` objects\n",
    "observatory = Observer.at_site(\"Apache Point\")\n",
    "\n",
    "# Which targets are visible right now?\n",
    "observatory.target_is_up(Time.now(), targets)"
   ]
  },
  {
   "cell_type": "markdown",
   "metadata": {},
   "source": [
    "Now let's see which of those targets are visible over a time range of the next ten days, given the following constraints: \n",
    "\n",
    "* Observations must occur between civil twilights\n",
    "* The altitude of the target must be $20^\\circ < $alt$ < 85^\\circ$"
   ]
  },
  {
   "cell_type": "code",
   "execution_count": null,
   "metadata": {
    "collapsed": false
   },
   "outputs": [],
   "source": [
    "from astroplan import AtNightConstraint, AltitudeConstraint, observability_table\n",
    "\n",
    "time_range = Time.now() + np.array([0, 10])*u.day\n",
    "constraints = [AtNightConstraint.twilight_civil(),\n",
    "               AltitudeConstraint(min=20*u.deg, max=85*u.deg)]\n",
    "\n",
    "observability_table(constraints, observatory, targets, time_range=time_range)"
   ]
  },
  {
   "cell_type": "markdown",
   "metadata": {},
   "source": [
    "Let's track that target's motion through the sky for the next ten hours in a plot: "
   ]
  },
  {
   "cell_type": "code",
   "execution_count": null,
   "metadata": {
    "collapsed": false
   },
   "outputs": [],
   "source": [
    "from astroplan.plots import plot_sky\n",
    "\n",
    "# Plot at times: \n",
    "plot_times = Time.now() + np.linspace(0, 10, 10)*u.hour\n",
    "\n",
    "import warnings\n",
    "with warnings.catch_warnings():\n",
    "    warnings.simplefilter(\"ignore\")\n",
    "    plot_sky(targets[2], observatory, plot_times)"
   ]
  },
  {
   "cell_type": "markdown",
   "metadata": {},
   "source": [
    "For a more detailed run through of astroplan, [here's another notebook to check out](https://gist.github.com/bmorris3/19374760eb11271850ec).\n",
    "\n",
    "\n",
    "# 7) `astropy.io.fits`: Reading and writing FITS files\n",
    "\n",
    "Astronomers (unfortunately) use FITS files a lot, so let's practice using FITS files with astropy. The following command will download a FITS image for us to work with:"
   ]
  },
  {
   "cell_type": "code",
   "execution_count": null,
   "metadata": {
    "collapsed": false
   },
   "outputs": [],
   "source": [
    "from astropy.utils.data import download_file\n",
    "\n",
    "url = 'https://fits.gsfc.nasa.gov/samples/WFPC2ASSNu5780205bx.fits'\n",
    "example_fits_path = download_file(url)"
   ]
  },
  {
   "cell_type": "markdown",
   "metadata": {},
   "source": [
    "We can read in FITS files in two ways. The first is generic, and allows us to see the different extensions. "
   ]
  },
  {
   "cell_type": "code",
   "execution_count": null,
   "metadata": {
    "collapsed": false
   },
   "outputs": [],
   "source": [
    "from astropy.io import fits\n",
    "\n",
    "hdus = fits.open(example_fits_path)\n",
    "\n",
    "print(hdus)\n",
    "\n",
    "first_hdu = hdus[0]\n",
    "\n",
    "plt.imshow(first_hdu.data, cmap=plt.cm.Greys)\n",
    "plt.title(first_hdu.header['OBJECT'])\n",
    "plt.show()"
   ]
  },
  {
   "cell_type": "markdown",
   "metadata": {},
   "source": [
    "Alternatively, if you know what HDU you want to access, and you want just the header or the data, you can use the following: "
   ]
  },
  {
   "cell_type": "code",
   "execution_count": null,
   "metadata": {
    "collapsed": true
   },
   "outputs": [],
   "source": [
    "image = fits.getdata(example_fits_path)\n",
    "header = fits.getheader(example_fits_path)"
   ]
  },
  {
   "cell_type": "markdown",
   "metadata": {},
   "source": [
    "You can access particular header cards from the `astropy.io.fits.header.Header` object like a dictionary: "
   ]
  },
  {
   "cell_type": "code",
   "execution_count": null,
   "metadata": {
    "collapsed": false
   },
   "outputs": [],
   "source": [
    "date_obs = header['DATE-OBS']\n",
    "exp_time = header['EXPTIME']\n",
    "\n",
    "print(\"Observation time: {0}\".format(date_obs))\n",
    "print(\"Exposure duration: {0} s\".format(exp_time))"
   ]
  },
  {
   "cell_type": "markdown",
   "metadata": {},
   "source": [
    "To see the available keywords within the header, do:"
   ]
  },
  {
   "cell_type": "code",
   "execution_count": null,
   "metadata": {
    "collapsed": false
   },
   "outputs": [],
   "source": [
    "list(header.keys())[:10]"
   ]
  },
  {
   "cell_type": "markdown",
   "metadata": {},
   "source": [
    "If you want to write some results to a FITS file, you can do so like this: "
   ]
  },
  {
   "cell_type": "code",
   "execution_count": null,
   "metadata": {
    "collapsed": false
   },
   "outputs": [],
   "source": [
    "# Create a 2D, 10 x 10 random number array: \n",
    "example_data = np.random.randn(100).reshape((10, 10)) \n",
    "\n",
    "fits.writeto('example_data.fits', example_data, header=header, overwrite=True)"
   ]
  },
  {
   "cell_type": "markdown",
   "metadata": {},
   "source": [
    "***\n",
    "\n",
    "# 8) Exercises\n",
    "\n",
    "**1)** Get the light travel time to the sun in minutes, given it's distance *right now* (hint: check out [`astropy.coordinates.get_sun`](http://astropy.readthedocs.org/en/latest/api/astropy.coordinates.get_sun.html?highlight=get_sun#astropy.coordinates.get_sun))."
   ]
  },
  {
   "cell_type": "code",
   "execution_count": null,
   "metadata": {
    "collapsed": false
   },
   "outputs": [],
   "source": []
  },
  {
   "cell_type": "markdown",
   "metadata": {},
   "source": [
    "**2)** Using your current distance from the Sun in #1, calculate which is greater: the force of gravity between you and the Sun right now, or between you and a bowling ball-sized chunk of neutron star placed 12 kilometers away. \n",
    "\n",
    "Let's assume your mass is 60 kg. Use `astropy.constants` to get the gravitational constant $G$ and the mass of the sun $M_\\odot$. Let's say bowling balls have $r \\sim 22$ cm, and neutron stars have a density of $\\rho \\sim  3.7 \\times 10^{17} $kg m$^{-3}$."
   ]
  },
  {
   "cell_type": "code",
   "execution_count": null,
   "metadata": {
    "collapsed": false
   },
   "outputs": [],
   "source": []
  },
  {
   "cell_type": "markdown",
   "metadata": {},
   "source": [
    "**3)** Calculate the Schwarzschild radius in units of solar radii of the Sgr A*, the Milky Way's supermassive black hole with $M = 4.31 \\times 10^6 M_\\odot$, given\n",
    "\n",
    "$$r_\\mathrm{s} = \\frac{2 G M}{c^2}$$\n",
    "\n",
    "and the distance to the galactic center $d_{center} = 7.94$ kpc. Also calculate the angular size of the event horizon on the sky in microarcseconds."
   ]
  },
  {
   "cell_type": "code",
   "execution_count": null,
   "metadata": {
    "collapsed": false
   },
   "outputs": [],
   "source": []
  },
  {
   "cell_type": "markdown",
   "metadata": {},
   "source": [
    "**4)** Represent your birthday in the following time formats: ISO, JD, MJD and decimal year, all with the UTC time standard (default)."
   ]
  },
  {
   "cell_type": "code",
   "execution_count": null,
   "metadata": {
    "collapsed": false
   },
   "outputs": [],
   "source": []
  },
  {
   "cell_type": "markdown",
   "metadata": {},
   "source": [
    "**5)** Using the table of Landolt standards which we generated above (`landolt_table`), find the name of the star with the brightest _V_ magnitude (smallest number), and find its position in galactic coordinates (hint: [`SkyCoord` docs](http://docs.astropy.org/en/stable/coordinates/#transformation)). "
   ]
  },
  {
   "cell_type": "code",
   "execution_count": null,
   "metadata": {
    "collapsed": false
   },
   "outputs": [],
   "source": []
  }
 ],
 "metadata": {
  "kernelspec": {
   "display_name": "Python 3",
   "language": "python",
   "name": "python3"
  },
  "language_info": {
   "codemirror_mode": {
    "name": "ipython",
    "version": 3
   },
   "file_extension": ".py",
   "mimetype": "text/x-python",
   "name": "python",
   "nbconvert_exporter": "python",
   "pygments_lexer": "ipython3",
   "version": "3.5.4"
  }
 },
 "nbformat": 4,
 "nbformat_minor": 2
}
